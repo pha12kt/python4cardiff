{
 "cells": [
  {
   "cell_type": "markdown",
   "metadata": {},
   "source": [
    "# Affiliated Package: Astroquery"
   ]
  },
  {
   "cell_type": "markdown",
   "metadata": {},
   "source": [
    "[Astroquery](http://www.astropy.org/astroquery/) is an Astropy-affiliated package that contains a collection of tools to access online Astronomical data. To install it, do:\n",
    "\n",
    "    pip install astroquery\n",
    "\n",
    "The following modules have been completed using a common API:\n",
    "\n",
    "* SIMBAD Queries (``astroquery.simbad``)\n",
    "* VizieR Queries (``astroquery.vizier``)\n",
    "* IRSA Dust Extinction Service Queries (``astroquery.irsa_dust``)\n",
    "* NED Queries (``astroquery.ned``)\n",
    "* Splatalogue Queries (``astroquery.splatalogue``)\n",
    "* IRSA Queries (``astroquery.irsa``)\n",
    "* UKIDSS Queries (``astroquery.ukidss``)\n",
    "* MAGPIS Queries (``astroquery.magpis``)\n",
    "* NRAO Queries (``astroquery.nrao``)\n",
    "* Besancon Queries (``astroquery.besancon``)\n",
    "* NIST Queries (``astroquery.nist``)\n",
    "* NVAS Queries (``astroquery.nvas``)\n",
    "* GAMA Queries (``astroquery.gama``)\n",
    "* ESO Queries (``astroquery.eso``)\n",
    "* xMatch Queries (``astroquery.xmatch``)\n",
    "* Atomic Line List (``astroquery.atomic``)\n",
    "* ALMA Queries (``astroquery.alma``)\n",
    "* Skyview Queries (``astroquery.skyview``)\n",
    "* NASA ADS Queries (``astroquery.nasa_ads``)\n",
    "* HEASARC Queries (``astroquery.heasarc``)\n",
    "\n",
    "These others are functional, but do not follow a common & consistent API:\n",
    "\n",
    "* Fermi Queries (``astroquery.fermi``)\n",
    "* SDSS Queries (``astroquery.sdss``)\n",
    "* ALFALFA Queries (``astroquery.alfalfa``)\n",
    "* Spitzer Heritage Archive (``astroquery.sha``)\n",
    "* LAMDA Queries (``astroquery.lamda``)\n",
    "* OGLE Queries (``astroquery.ogle``)\n",
    "* Open Exoplanet Catalogue(``astroquery.open_exoplanet_catalogue``)\n",
    "* CosmoSim Queries (``astroquery.cosmosim``)"
   ]
  },
  {
   "cell_type": "markdown",
   "metadata": {},
   "source": [
    "## SIMBAD"
   ]
  },
  {
   "cell_type": "markdown",
   "metadata": {},
   "source": [
    "As an example, let's run a SIMBAD query:"
   ]
  },
  {
   "cell_type": "code",
   "execution_count": 1,
   "metadata": {
    "collapsed": false
   },
   "outputs": [],
   "source": [
    "from astropy import units as u\n",
    "from astroquery.simbad import Simbad"
   ]
  },
  {
   "cell_type": "code",
   "execution_count": 2,
   "metadata": {
    "collapsed": false
   },
   "outputs": [],
   "source": [
    "r = Simbad.query_region('m42', radius=3. * u.arcmin)"
   ]
  },
  {
   "cell_type": "code",
   "execution_count": 3,
   "metadata": {
    "collapsed": false
   },
   "outputs": [
    {
     "data": {
      "text/plain": [
       "['MAIN_ID',\n",
       " 'RA',\n",
       " 'DEC',\n",
       " 'RA_PREC',\n",
       " 'DEC_PREC',\n",
       " 'COO_ERR_MAJA',\n",
       " 'COO_ERR_MINA',\n",
       " 'COO_ERR_ANGLE',\n",
       " 'COO_QUAL',\n",
       " 'COO_WAVELENGTH',\n",
       " 'COO_BIBCODE']"
      ]
     },
     "execution_count": 3,
     "metadata": {},
     "output_type": "execute_result"
    }
   ],
   "source": [
    "r.colnames"
   ]
  },
  {
   "cell_type": "code",
   "execution_count": 4,
   "metadata": {
    "collapsed": false
   },
   "outputs": [
    {
     "data": {
      "text/html": [
       "&lt;Table masked=True length=2247&gt;\n",
       "<table id=\"table4361723728\">\n",
       "<thead><tr><th>MAIN_ID</th><th>RA</th><th>DEC</th><th>RA_PREC</th><th>DEC_PREC</th><th>COO_ERR_MAJA</th><th>COO_ERR_MINA</th><th>COO_ERR_ANGLE</th><th>COO_QUAL</th><th>COO_WAVELENGTH</th><th>COO_BIBCODE</th></tr></thead>\n",
       "<thead><tr><th></th><th>&quot;h:m:s&quot;</th><th>&quot;d:m:s&quot;</th><th></th><th></th><th>mas</th><th>mas</th><th>deg</th><th></th><th></th><th></th></tr></thead>\n",
       "<thead><tr><th>object</th><th>unicode416</th><th>unicode416</th><th>int16</th><th>int16</th><th>float32</th><th>float32</th><th>int16</th><th>unicode32</th><th>unicode32</th><th>object</th></tr></thead>\n",
       "<tr><td>M  42</td><td>05 35 17.3</td><td>-05 23 28</td><td>5</td><td>5</td><td>7500.000</td><td>7500.000</td><td>90</td><td>D</td><td></td><td>1981MNRAS.194..693L</td></tr>\n",
       "<tr><td>NAME ORI REGION</td><td>05 35 17.30</td><td>-05 23 28.0</td><td>6</td><td>6</td><td>--</td><td>--</td><td>0</td><td>D</td><td>O</td><td></td></tr>\n",
       "<tr><td>[OW94] 172-237</td><td>05 35 17.20</td><td>-05 23 26.8</td><td>6</td><td>6</td><td>--</td><td>--</td><td>0</td><td>D</td><td></td><td>1999AJ....117.1375S</td></tr>\n",
       "<tr><td>[OW94] 172-327</td><td>05 35 17.20</td><td>-05 23 26.8</td><td>6</td><td>6</td><td>--</td><td>--</td><td>0</td><td>D</td><td></td><td>1996AJ....111..846O</td></tr>\n",
       "<tr><td>DOH  7 175-328</td><td>05 35 17.5</td><td>-05 23 28</td><td>5</td><td>5</td><td>--</td><td>--</td><td>0</td><td>D</td><td></td><td>2004AJ....127.3456D</td></tr>\n",
       "<tr><td>MAX 126</td><td>05 35 17.11</td><td>-05 23 29.3</td><td>6</td><td>6</td><td>--</td><td>--</td><td>0</td><td>D</td><td>I</td><td>2005AJ....129.1534R</td></tr>\n",
       "<tr><td>DOH  7 171-327</td><td>05 35 17.1</td><td>-05 23 27</td><td>5</td><td>5</td><td>--</td><td>--</td><td>0</td><td>D</td><td></td><td>2004AJ....127.3456D</td></tr>\n",
       "<tr><td>MAX 125</td><td>05 35 17.11</td><td>-05 23 26.6</td><td>6</td><td>6</td><td>--</td><td>--</td><td>0</td><td>D</td><td>I</td><td>2005AJ....129.1534R</td></tr>\n",
       "<tr><td>[OW94] 171-326</td><td>05 35 17.1</td><td>-05 23 26</td><td>5</td><td>5</td><td>--</td><td>--</td><td>0</td><td>D</td><td></td><td>2004AJ....127.3456D</td></tr>\n",
       "<tr><td>...</td><td>...</td><td>...</td><td>...</td><td>...</td><td>...</td><td>...</td><td>...</td><td>...</td><td>...</td><td>...</td></tr>\n",
       "<tr><td>TPSC  8</td><td>05 35 18.9148</td><td>-05 20 30.941</td><td>8</td><td>8</td><td>300.000</td><td>300.000</td><td>90</td><td>C</td><td>M</td><td>2011ApJ...733...50M</td></tr>\n",
       "<tr><td>[YKS96]  8</td><td>05 35 11.0</td><td>-05 26 00</td><td>5</td><td>5</td><td>3000.000</td><td>3000.000</td><td>90</td><td>D</td><td></td><td></td></tr>\n",
       "<tr><td>2MASS J05350705-0525005</td><td>05 35 07.05</td><td>-05 25 00.5</td><td>6</td><td>6</td><td>80.000</td><td>80.000</td><td>90</td><td>B</td><td>I</td><td>2003yCat.2246....0C</td></tr>\n",
       "<tr><td>[LB2000]  19</td><td>05 35 13.0</td><td>-05 20 41</td><td>5</td><td>5</td><td>--</td><td>--</td><td>0</td><td>D</td><td></td><td>2000MNRAS.315...11L</td></tr>\n",
       "<tr><td>2MASS J05351814-0520295</td><td>05 35 18.142</td><td>-05 20 29.52</td><td>7</td><td>7</td><td>170.000</td><td>160.000</td><td>96</td><td>B</td><td>I</td><td>2003yCat.2246....0C</td></tr>\n",
       "<tr><td>COUP J053514.1-052620</td><td>05 35 14.191</td><td>-05 26 20.83</td><td>7</td><td>7</td><td>--</td><td>--</td><td>0</td><td>D</td><td></td><td>2005ApJS..160..319G</td></tr>\n",
       "<tr><td>JW  377</td><td>05 35 12.272</td><td>-05 20 45.24</td><td>7</td><td>7</td><td>60.000</td><td>60.000</td><td>90</td><td>B</td><td>I</td><td>2003yCat.2246....0C</td></tr>\n",
       "<tr><td>MLLA  919</td><td>05 35 12.59</td><td>-05 20 42.9</td><td>6</td><td>6</td><td>150.000</td><td>150.000</td><td>90</td><td>C</td><td>O</td><td>2009A&amp;A...502..883R</td></tr>\n",
       "<tr><td>[NW2007] OrionAN-0535146-52623</td><td>05 35 14.6</td><td>-05 26 23</td><td>5</td><td>5</td><td>--</td><td>--</td><td>0</td><td>E</td><td>m</td><td>2007MNRAS.374.1413N</td></tr>\n",
       "<tr><td>MLLA  945</td><td>05 35 19.69</td><td>-05 20 31.6</td><td>6</td><td>6</td><td>--</td><td>--</td><td>0</td><td>C</td><td>O</td><td>2009ApJS..183..261D</td></tr>\n",
       "</table>"
      ],
      "text/plain": [
       "<Table masked=True length=2247>\n",
       "           MAIN_ID                   RA      ...     COO_BIBCODE    \n",
       "                                  \"h:m:s\"    ...                    \n",
       "            object               unicode416  ...        object      \n",
       "------------------------------ ------------- ... -------------------\n",
       "                         M  42    05 35 17.3 ... 1981MNRAS.194..693L\n",
       "               NAME ORI REGION   05 35 17.30 ...                    \n",
       "                [OW94] 172-237   05 35 17.20 ... 1999AJ....117.1375S\n",
       "                [OW94] 172-327   05 35 17.20 ... 1996AJ....111..846O\n",
       "                DOH  7 175-328    05 35 17.5 ... 2004AJ....127.3456D\n",
       "                       MAX 126   05 35 17.11 ... 2005AJ....129.1534R\n",
       "                DOH  7 171-327    05 35 17.1 ... 2004AJ....127.3456D\n",
       "                       MAX 125   05 35 17.11 ... 2005AJ....129.1534R\n",
       "                [OW94] 171-326    05 35 17.1 ... 2004AJ....127.3456D\n",
       "                           ...           ... ...                 ...\n",
       "                       TPSC  8 05 35 18.9148 ... 2011ApJ...733...50M\n",
       "                    [YKS96]  8    05 35 11.0 ...                    \n",
       "       2MASS J05350705-0525005   05 35 07.05 ... 2003yCat.2246....0C\n",
       "                  [LB2000]  19    05 35 13.0 ... 2000MNRAS.315...11L\n",
       "       2MASS J05351814-0520295  05 35 18.142 ... 2003yCat.2246....0C\n",
       "         COUP J053514.1-052620  05 35 14.191 ... 2005ApJS..160..319G\n",
       "                       JW  377  05 35 12.272 ... 2003yCat.2246....0C\n",
       "                     MLLA  919   05 35 12.59 ... 2009A&A...502..883R\n",
       "[NW2007] OrionAN-0535146-52623    05 35 14.6 ... 2007MNRAS.374.1413N\n",
       "                     MLLA  945   05 35 19.69 ... 2009ApJS..183..261D"
      ]
     },
     "execution_count": 4,
     "metadata": {},
     "output_type": "execute_result"
    }
   ],
   "source": [
    "r"
   ]
  },
  {
   "cell_type": "markdown",
   "metadata": {},
   "source": [
    "## WISE"
   ]
  },
  {
   "cell_type": "code",
   "execution_count": null,
   "metadata": {
    "collapsed": false
   },
   "outputs": [],
   "source": [
    "from astroquery.irsa import Irsa"
   ]
  },
  {
   "cell_type": "code",
   "execution_count": null,
   "metadata": {
    "collapsed": false
   },
   "outputs": [],
   "source": [
    "Irsa.query_region('m42', catalog='wise_allsky_4band_p3as_psd', radius=10*u.arcmin)"
   ]
  },
  {
   "cell_type": "markdown",
   "metadata": {},
   "source": [
    "## Practical Exercise"
   ]
  },
  {
   "cell_type": "markdown",
   "metadata": {},
   "source": [
    "Go to the documentation and try out a query interface for a service that might be relevant to you!"
   ]
  }
 ],
 "metadata": {
  "kernelspec": {
   "display_name": "Python 2",
   "language": "python",
   "name": "python2"
  },
  "language_info": {
   "codemirror_mode": {
    "name": "ipython",
    "version": 2
   },
   "file_extension": ".py",
   "mimetype": "text/x-python",
   "name": "python",
   "nbconvert_exporter": "python",
   "pygments_lexer": "ipython2",
   "version": "2.7.10"
  }
 },
 "nbformat": 4,
 "nbformat_minor": 0
}
