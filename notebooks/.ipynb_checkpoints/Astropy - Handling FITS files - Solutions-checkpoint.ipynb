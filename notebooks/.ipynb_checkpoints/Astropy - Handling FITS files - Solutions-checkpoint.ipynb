{
 "cells": [
  {
   "cell_type": "markdown",
   "metadata": {},
   "source": [
    "# Handling FITS files - Solutions"
   ]
  },
  {
   "cell_type": "code",
   "execution_count": null,
   "metadata": {
    "collapsed": false
   },
   "outputs": [],
   "source": [
    "%matplotlib inline\n",
    "import numpy as np\n",
    "import matplotlib.pyplot as plt"
   ]
  },
  {
   "cell_type": "code",
   "execution_count": null,
   "metadata": {
    "collapsed": false
   },
   "outputs": [],
   "source": [
    "from astropy.io import fits"
   ]
  },
  {
   "cell_type": "markdown",
   "metadata": {},
   "source": [
    "### Level 2"
   ]
  },
  {
   "cell_type": "markdown",
   "metadata": {},
   "source": [
    "Normally you can use the ``Table.read`` method to read in FITS tables, but this shows how to do it directly in astropy.io.fits"
   ]
  },
  {
   "cell_type": "code",
   "execution_count": null,
   "metadata": {
    "collapsed": false
   },
   "outputs": [],
   "source": [
    "# Read in Point Source Catalog\n",
    "hdulist = fits.open('data/gll_psc_v08.fit')\n",
    "psc = hdulist[1].data\n",
    "\n",
    "# Extract Galactic Coordinates\n",
    "l = hdulist[1].data['GLON']\n",
    "b = hdulist[1].data['GLAT']\n",
    "\n",
    "# Coordinates from 0 to 360, wrap to -180 to 180 to match image\n",
    "l[l > 180.] -= 360.\n",
    "\n",
    "# Plot the image\n",
    "fig = plt.figure()\n",
    "ax = fig.add_subplot(1, 1, 1, aspect='equal')\n",
    "ax.scatter(l, b)\n",
    "ax.set_xlim(180., -180.)\n",
    "ax.set_ylim(-90., 90.)\n",
    "ax.set_xlabel('Galactic Longitude')\n",
    "ax.set_ylabel('Galactic Latitude')"
   ]
  },
  {
   "cell_type": "markdown",
   "metadata": {},
   "source": [
    "Level 3\n",
    "-------"
   ]
  },
  {
   "cell_type": "code",
   "execution_count": null,
   "metadata": {
    "collapsed": false
   },
   "outputs": [],
   "source": [
    "# Read in Background Model\n",
    "hdulist = fits.open('data/gll_iem_v02_P6_V11_DIFFUSE.fit')\n",
    "bg = hdulist[0].data[0, :, :]\n",
    "\n",
    "# Read in Point Source Catalog\n",
    "hdulist = fits.open('data/gll_psc_v08.fit')\n",
    "psc = hdulist[1].data\n",
    "\n",
    "# Extract Galactic Coordinates\n",
    "l = hdulist[1].data['GLON']\n",
    "b = hdulist[1].data['GLAT']\n",
    "\n",
    "# Coordinates from 0 to 360, wrap to -180 to 180 to match image\n",
    "l[l > 180.] -= 360.\n",
    "\n",
    "# Plot the image\n",
    "fig = plt.figure()\n",
    "ax = fig.add_subplot(1, 1, 1)\n",
    "ax.imshow(bg ** 0.5, extent=[-180., 180., -90., 90.], cmap=plt.cm.gist_heat,\n",
    "          origin='lower', vmin=0, vmax=2e-3)\n",
    "ax.scatter(l, b, s=10, edgecolor='none', facecolor='blue', alpha=0.5)\n",
    "ax.set_xlim(180., -180.)\n",
    "ax.set_ylim(-90., 90.)\n",
    "ax.set_xlabel('Galactic Longitude')\n",
    "ax.set_ylabel('Galactic Latitude')"
   ]
  }
 ],
 "metadata": {
  "kernelspec": {
   "display_name": "Python 2",
   "language": "python",
   "name": "python2"
  },
  "language_info": {
   "codemirror_mode": {
    "name": "ipython",
    "version": 2
   },
   "file_extension": ".py",
   "mimetype": "text/x-python",
   "name": "python",
   "nbconvert_exporter": "python",
   "pygments_lexer": "ipython2",
   "version": "2.7.10"
  }
 },
 "nbformat": 4,
 "nbformat_minor": 0
}
