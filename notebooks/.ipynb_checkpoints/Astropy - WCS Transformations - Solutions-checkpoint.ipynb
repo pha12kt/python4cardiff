{
 "cells": [
  {
   "cell_type": "markdown",
   "metadata": {},
   "source": [
    "# Astropy: WCS Transformations - Solutions"
   ]
  },
  {
   "cell_type": "markdown",
   "metadata": {},
   "source": [
    "## Level 1"
   ]
  },
  {
   "cell_type": "markdown",
   "metadata": {},
   "source": [
    "The final pixel coordinates should always agree with the starting ones, since each pixel covers a unique world coordinate position. The world coordinates of the pixel at (1, 1) are not defined:"
   ]
  },
  {
   "cell_type": "code",
   "execution_count": null,
   "metadata": {
    "collapsed": false
   },
   "outputs": [],
   "source": [
    "from astropy.wcs import WCS\n",
    "w = WCS('data/ROSAT.fits')\n",
    "w.wcs_pix2world(1, 1, 1)"
   ]
  },
  {
   "cell_type": "markdown",
   "metadata": {},
   "source": [
    "because the pixel lies outside the coordinate grid. Thus, not all pixels in an image have a valid position on the sky."
   ]
  },
  {
   "cell_type": "markdown",
   "metadata": {},
   "source": [
    "## Level 2"
   ]
  },
  {
   "cell_type": "code",
   "execution_count": null,
   "metadata": {
    "collapsed": false
   },
   "outputs": [],
   "source": [
    "import numpy as np\n",
    "from astropy.io import fits\n",
    "from astropy.wcs import WCS\n",
    "from astropy.table import Table\n",
    "\n",
    "# Read in LAT Point Source Catalog\n",
    "psc = Table.read('data/gll_psc_v08.fit')\n",
    "\n",
    "# Extract Galactic Coordinates\n",
    "l = psc['GLON']\n",
    "b = psc['GLAT']\n",
    "\n",
    "# Read in ROSAT map\n",
    "hdulist_im = fits.open('data/ROSAT.fits')\n",
    "\n",
    "# Extract image and header\n",
    "image = hdulist_im[0].data\n",
    "header = hdulist_im[0].header\n",
    "\n",
    "# Instantiate WCS object\n",
    "w = WCS(header)\n",
    "\n",
    "# Find pixel positions of LAT sources. Note we use ``0`` here for the last\n",
    "# argument, since we want zero based indices (for Numpy), not the FITS\n",
    "# pixel positions.\n",
    "px, py = w.wcs_world2pix(l, b, 0)\n",
    "\n",
    "# Find the nearest integer pixel\n",
    "px = np.round(px).astype(int)\n",
    "py = np.round(py).astype(int)\n",
    "\n",
    "# Find the ROSAT values (note the reversed index order)\n",
    "values = image[py, px]\n",
    "\n",
    "# Print out the values\n",
    "print(values)"
   ]
  },
  {
   "cell_type": "markdown",
   "metadata": {},
   "source": [
    "## Level 3"
   ]
  },
  {
   "cell_type": "code",
   "execution_count": null,
   "metadata": {
    "collapsed": false
   },
   "outputs": [],
   "source": [
    "import numpy as np\n",
    "%matplotlib inline\n",
    "from matplotlib import pyplot as plt\n",
    "from astropy.io import fits\n",
    "from astropy.wcs import WCS\n",
    "\n",
    "# Read in file\n",
    "hdulist = fits.open('data/ROSAT.fits')\n",
    "\n",
    "# Extract image and header\n",
    "image = hdulist[0].data\n",
    "header = hdulist[0].header\n",
    "\n",
    "# Instantiate WCS object\n",
    "w = WCS(header)\n",
    "\n",
    "# Plot the image\n",
    "fig = plt.figure()\n",
    "ax = fig.add_subplot(1, 1, 1)\n",
    "ax.imshow(image, cmap=plt.cm.gist_heat,\n",
    "          origin='lower', vmin=0, vmax=1000.)\n",
    "\n",
    "# Loop over lines of longitude\n",
    "for lon in np.linspace(-180., 180., 13):\n",
    "    grid_lon = np.repeat(lon, 100)\n",
    "    grid_lat = np.linspace(-90., 90., 100)\n",
    "    px, py = w.wcs_world2pix(grid_lon, grid_lat, 1)\n",
    "    ax.plot(px, py, color='white', alpha=0.5)\n",
    "\n",
    "# Loop over lines of latitude\n",
    "for lat in np.linspace(-60., 60., 5):\n",
    "    grid_lon = np.linspace(-180., 180., 100)\n",
    "    grid_lat = np.repeat(lat, 100)\n",
    "    px, py = w.wcs_world2pix(grid_lon, grid_lat, 1)\n",
    "    ax.plot(px, py, color='white', alpha=0.5)\n",
    "\n",
    "ax.set_xlim(0, image.shape[1])\n",
    "ax.set_ylim(0, image.shape[0])\n",
    "ax.set_xticklabels('')\n",
    "ax.set_yticklabels('')\n",
    "plt.show()"
   ]
  }
 ],
 "metadata": {
  "kernelspec": {
   "display_name": "Python 2",
   "language": "python",
   "name": "python2"
  },
  "language_info": {
   "codemirror_mode": {
    "name": "ipython",
    "version": 2
   },
   "file_extension": ".py",
   "mimetype": "text/x-python",
   "name": "python",
   "nbconvert_exporter": "python",
   "pygments_lexer": "ipython2",
   "version": "2.7.10"
  }
 },
 "nbformat": 4,
 "nbformat_minor": 0
}
